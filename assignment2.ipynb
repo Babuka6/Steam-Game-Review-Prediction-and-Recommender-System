{
 "cells": [
  {
   "cell_type": "code",
   "execution_count": 1,
   "id": "35afc6b0-0403-4feb-ab0e-d441211d6b81",
   "metadata": {},
   "outputs": [],
   "source": [
    "import numpy\n",
    "import ast \n",
    "import urllib\n",
    "import scipy.optimize\n",
    "import csv\n",
    "import random\n",
    "from sklearn import linear_model\n",
    "from sklearn.preprocessing import StandardScaler\n",
    "from sklearn.metrics import mean_squared_error\n",
    "import gzip\n",
    "from collections import defaultdict"
   ]
  },
  {
   "cell_type": "code",
   "execution_count": 2,
   "id": "8c7c2f96-45a3-4b98-9b3c-507d81e87cbf",
   "metadata": {},
   "outputs": [],
   "source": [
    "dataset = []\n",
    "with open(\"RAW_interactions.csv\", encoding=\"utf8\") as f:\n",
    "    next(f)  \n",
    "    for l in f:\n",
    "        fields = l.strip().split(\",\")  # Remove trailing newline and split by commas\n",
    "        dataset.append(fields)"
   ]
  },
  {
   "cell_type": "code",
   "execution_count": 3,
   "id": "fff5612f-1172-48c9-9d8c-7466ca9cfd7b",
   "metadata": {},
   "outputs": [
    {
     "data": {
      "text/plain": [
       "['38094',\n",
       " '40893',\n",
       " '2003-02-17',\n",
       " '4',\n",
       " 'Great with a salad. Cooked on top of stove for 15 minutes.Added a shake of cayenne and a pinch of salt.  Used low fat sour cream.  Thanks.']"
      ]
     },
     "execution_count": 3,
     "metadata": {},
     "output_type": "execute_result"
    }
   ],
   "source": [
    "dataset[0]\n",
    "#user_id, recipe_id, date, rating, review"
   ]
  },
  {
   "cell_type": "code",
   "execution_count": 4,
   "id": "82505f2d-0271-4a7f-9553-2e8294b7f7f3",
   "metadata": {},
   "outputs": [],
   "source": [
    "recipe_ratings = {}\n",
    "\n",
    "for row in dataset:\n",
    "    # Validate that row has enough fields and fields are not empty\n",
    "    if len(row) >= 4 and row[1].strip() and row[3].strip():\n",
    "        recipe_id = row[1].strip()  # Clean whitespace\n",
    "        rating = row[3].strip()\n",
    "        \n",
    "        # Additional check: Ensure 'rating' is numeric, if applicable\n",
    "        if rating.isdigit():\n",
    "            # Add rating to the dictionary\n",
    "            if recipe_id not in recipe_ratings:\n",
    "                recipe_ratings[recipe_id] = []\n",
    "            recipe_ratings[recipe_id].append(int(rating))\n",
    "\n",
    "# Example output\n",
    "#for recipe_id, ratings in recipe_ratings.items():\n",
    "#    print(f\"Recipe ID: {recipe_id}, Ratings: {ratings}\")"
   ]
  },
  {
   "cell_type": "code",
   "execution_count": 5,
   "id": "bf3940a9-4d56-454a-89c9-02a80e7416f8",
   "metadata": {
    "scrolled": true
   },
   "outputs": [],
   "source": [
    "dataset_features = []\n",
    "with open(\"RAW_recipes.csv\", encoding=\"utf8\") as f:\n",
    "    next(f)  \n",
    "    for l in f:\n",
    "        fields = l.strip().split(\",\")  # Remove trailing newline and split by commas\n",
    "        dataset_features.append(fields)\n",
    "#name, id, minutes, contributor_id, date, tags, nutrition, number of steps, steps, description, ingredients, n_ingredinets"
   ]
  },
  {
   "cell_type": "code",
   "execution_count": 6,
   "id": "64d24e3e-0db7-42d8-93bb-26a19a4dc829",
   "metadata": {},
   "outputs": [],
   "source": [
    "recipe_nutrition = {}\n",
    "'''\n",
    "with open(\"RAW_recipes.csv\", encoding=\"utf8\") as f:\n",
    "    reader = csv.reader(f)\n",
    "    next(reader)  # Skip the header\n",
    "\n",
    "    for row in reader:\n",
    "        if len(row) >= 7:  # Ensure the row has enough fields\n",
    "            recipe_id = row[1].strip()  # Recipe ID (assumed second column)\n",
    "            nutrition_data = row[6].strip()  # Nutrition field (assumed seventh column)\n",
    "\n",
    "            try:\n",
    "                # Safely parse the nutrition field\n",
    "                nutrition_list = ast.literal_eval(nutrition_data)\n",
    "\n",
    "                # Ensure the parsed data is a list and has at least 7 elements\n",
    "                if isinstance(nutrition_list, list) and len(nutrition_list) >= 7:\n",
    "                    total_fat = nutrition_list[1]  # Total fat (PDV)\n",
    "                    sugar = nutrition_list[2]      # Sugar (PDV)\n",
    "                    saturated_fat = nutrition_list[5]  # Saturated fat (PDV)\n",
    "\n",
    "                    # Validate that the values are non-negative numbers\n",
    "                    if all(isinstance(x, (int, float)) and x >= 0 for x in [total_fat, sugar, saturated_fat]):\n",
    "                        recipe_nutrition[recipe_id] = {\n",
    "                            \"total_fat\": total_fat,\n",
    "                            \"sugar\": sugar,\n",
    "                            \"saturated_fat\": saturated_fat\n",
    "                        }\n",
    "            except (ValueError, SyntaxError, TypeError):\n",
    "                # Skip rows with invalid nutrition data\n",
    "                continue\n",
    "'''\n",
    "with open(\"RAW_recipes.csv\", encoding=\"utf8\") as f:\n",
    "    reader = csv.reader(f)\n",
    "    next(reader)  # Skip the header\n",
    "\n",
    "    for row in reader:\n",
    "        if len(row) >= 12:  # Ensure the row has enough fields\n",
    "            recipe_id = row[1].strip()  # Recipe ID (assumed second column)\n",
    "            n_ingredients = row[11].strip()  # Number of ingredients field (assumed 12th column)\n",
    "\n",
    "            # Validate and store the number of ingredients\n",
    "            if n_ingredients.isdigit():  # Check if it's a valid number\n",
    "                recipe_nutrition[recipe_id] = {\n",
    "                    \"n_ingredients\": int(n_ingredients)\n",
    "                }\n",
    "# Example output\n",
    "#for recipe_id, nutrition in recipe_nutrition.items():\n",
    "#   print(f\"Recipe ID: {recipe_id}, Nutrition: {nutrition}\")\n",
    "#extract total_fat, sugar, and saturated_fat"
   ]
  },
  {
   "cell_type": "code",
   "execution_count": 7,
   "id": "831687cb-8f54-4c0f-9a9d-aa4be200c64b",
   "metadata": {},
   "outputs": [
    {
     "name": "stdout",
     "output_type": "stream",
     "text": [
      "Train set size: 115818\n",
      "Test set size: 115819\n"
     ]
    }
   ],
   "source": [
    "all_ids = list(recipe_nutrition.keys())\n",
    "random.shuffle(all_ids)\n",
    "\n",
    "# Calculate the split index (50/50)\n",
    "split_index = len(all_ids) // 2\n",
    "\n",
    "# Split keys into training and testing sets\n",
    "train_ids = all_ids[:split_index]\n",
    "test_ids = all_ids[split_index:]\n",
    "\n",
    "# Create train and test dictionaries\n",
    "train_set = {recipe_id: recipe_nutrition[recipe_id] for recipe_id in train_ids}\n",
    "test_set = {recipe_id: recipe_nutrition[recipe_id] for recipe_id in test_ids}\n",
    "\n",
    "print(f\"Train set size: {len(train_set)}\")\n",
    "print(f\"Test set size: {len(test_set)}\")"
   ]
  },
  {
   "cell_type": "code",
   "execution_count": 8,
   "id": "8293616d-b061-4523-8afd-d68b00c8501a",
   "metadata": {},
   "outputs": [
    {
     "name": "stdout",
     "output_type": "stream",
     "text": [
      "Model coefficients: [ 4.37044222e+00 -2.93794302e-03]\n"
     ]
    }
   ],
   "source": [
    "def feature(datum):\n",
    "    feat = [1]  # Bias term\n",
    "    #feat.append(datum['total_fat'])      \n",
    "    #feat.append(datum['sugar'])          \n",
    "    #feat.append(datum['saturated_fat'])   \n",
    "    feat.append(datum['n_ingredients'])   \n",
    "    return feat\n",
    "\n",
    "X_train = numpy.asarray([feature(train_set[recipe_id]) for recipe_id in train_set])\n",
    "scaler = StandardScaler()\n",
    "X_train_scaled = scaler.fit_transform(X_train)\n",
    "\n",
    "Y_train = numpy.asarray([\n",
    "    numpy.mean(recipe_ratings[recipe_id]) if isinstance(recipe_ratings[recipe_id], list) else float(recipe_ratings[recipe_id])\n",
    "    for recipe_id in train_set\n",
    "])\n",
    "\n",
    "model = linear_model.LinearRegression(fit_intercept=False)\n",
    "model.fit(X_train, Y_train)\n",
    "\n",
    "print(\"Model coefficients:\", model.coef_)"
   ]
  },
  {
   "cell_type": "code",
   "execution_count": 9,
   "id": "2512b314-b3e1-4d72-b611-519fbbcbd75a",
   "metadata": {},
   "outputs": [
    {
     "name": "stdout",
     "output_type": "stream",
     "text": [
      "Mean Squared Error: 0.9798872545545332\n",
      "Percent Correct: 14.47%\n"
     ]
    }
   ],
   "source": [
    "X_test = numpy.asarray([feature(test_set[recipe_id]) for recipe_id in test_set])\n",
    "test_recipe_ids = list(test_set.keys())\n",
    "X_test_scaled = scaler.transform(X_test)\n",
    "\n",
    "Y_test = numpy.asarray([\n",
    "    numpy.mean(recipe_ratings[recipe_id]) if isinstance(recipe_ratings[recipe_id], list) else float(recipe_ratings[recipe_id])\n",
    "    for recipe_id in test_recipe_ids\n",
    "])\n",
    "\n",
    "# Predict using the model\n",
    "Y_pred = model.predict(X_test)\n",
    "\n",
    "# Calculate Mean Squared Error (MSE)\n",
    "mse = mean_squared_error(Y_test, Y_pred)\n",
    "print(f\"Mean Squared Error: {mse}\")\n",
    "\n",
    "def balanced_error_rate(y_true, y_pred):\n",
    "    epsilon = 1e-10\n",
    "    relative_errors = numpy.abs((y_true - y_pred) / y_true+epsilon)\n",
    "    return numpy.mean(relative_errors)\n",
    "\n",
    "tolerance = 0.25\n",
    "\n",
    "# Calculate the number of correct predictions\n",
    "correct_predictions = numpy.sum(numpy.abs(Y_pred - Y_test) <= tolerance)\n",
    "\n",
    "# Calculate percent correct\n",
    "percent_correct = (correct_predictions / len(Y_test)) * 100\n",
    "print(f\"Percent Correct: {percent_correct:.2f}%\")\n"
   ]
  },
  {
   "cell_type": "code",
   "execution_count": null,
   "id": "71e10a83-59b4-43ac-aa35-75b8e66cb5cf",
   "metadata": {},
   "outputs": [],
   "source": []
  }
 ],
 "metadata": {
  "kernelspec": {
   "display_name": "Python 3 (ipykernel)",
   "language": "python",
   "name": "python3"
  },
  "language_info": {
   "codemirror_mode": {
    "name": "ipython",
    "version": 3
   },
   "file_extension": ".py",
   "mimetype": "text/x-python",
   "name": "python",
   "nbconvert_exporter": "python",
   "pygments_lexer": "ipython3",
   "version": "3.11.7"
  }
 },
 "nbformat": 4,
 "nbformat_minor": 5
}
