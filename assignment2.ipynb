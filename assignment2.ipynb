{
 "cells": [
  {
   "cell_type": "code",
   "execution_count": 1,
   "id": "35afc6b0-0403-4feb-ab0e-d441211d6b81",
   "metadata": {},
   "outputs": [],
   "source": [
    "import numpy\n",
    "import urllib\n",
    "import scipy.optimize\n",
    "import random\n",
    "from sklearn import linear_model\n",
    "import gzip\n",
    "from collections import defaultdict"
   ]
  },
  {
   "cell_type": "code",
   "execution_count": 2,
   "id": "8c7c2f96-45a3-4b98-9b3c-507d81e87cbf",
   "metadata": {},
   "outputs": [],
   "source": [
    "dataset = []\n",
    "with open(\"RAW_interactions.csv\", encoding=\"utf8\") as f:\n",
    "    next(f)  \n",
    "    for l in f:\n",
    "        fields = l.strip().split(\",\")  # Remove trailing newline and split by commas\n",
    "        dataset.append(fields)"
   ]
  },
  {
   "cell_type": "code",
   "execution_count": 3,
   "id": "fff5612f-1172-48c9-9d8c-7466ca9cfd7b",
   "metadata": {},
   "outputs": [
    {
     "data": {
      "text/plain": [
       "['38094',\n",
       " '40893',\n",
       " '2003-02-17',\n",
       " '4',\n",
       " 'Great with a salad. Cooked on top of stove for 15 minutes.Added a shake of cayenne and a pinch of salt.  Used low fat sour cream.  Thanks.']"
      ]
     },
     "execution_count": 3,
     "metadata": {},
     "output_type": "execute_result"
    }
   ],
   "source": [
    "dataset[0]\n",
    "#user_id, recipe_id, date, rating, review"
   ]
  },
  {
   "cell_type": "code",
   "execution_count": 6,
   "id": "82505f2d-0271-4a7f-9553-2e8294b7f7f3",
   "metadata": {},
   "outputs": [],
   "source": [
    "recipe_ratings = {}\n",
    "\n",
    "for row in dataset:\n",
    "    # Validate that row has enough fields and fields are not empty\n",
    "    if len(row) >= 4 and row[1].strip() and row[3].strip():\n",
    "        recipe_id = row[1].strip()  # Clean whitespace\n",
    "        rating = row[3].strip()\n",
    "        \n",
    "        # Additional check: Ensure 'rating' is numeric, if applicable\n",
    "        if rating.isdigit():\n",
    "            # Add rating to the dictionary\n",
    "            if recipe_id not in recipe_ratings:\n",
    "                recipe_ratings[recipe_id] = []\n",
    "            recipe_ratings[recipe_id].append(int(rating))\n",
    "\n",
    "# Example output\n",
    "#for recipe_id, ratings in recipe_ratings.items():\n",
    "#    print(f\"Recipe ID: {recipe_id}, Ratings: {ratings}\")"
   ]
  },
  {
   "cell_type": "code",
   "execution_count": 8,
   "id": "bf3940a9-4d56-454a-89c9-02a80e7416f8",
   "metadata": {
    "scrolled": true
   },
   "outputs": [
    {
     "data": {
      "text/plain": [
       "['can be prepared either spicy or sweet', ' your choice!']"
      ]
     },
     "execution_count": 8,
     "metadata": {},
     "output_type": "execute_result"
    }
   ],
   "source": [
    "dataset_features = []\n",
    "with open(\"RAW_recipes.csv\", encoding=\"utf8\") as f:\n",
    "    next(f)  \n",
    "    for l in f:\n",
    "        fields = l.strip().split(\",\")  # Remove trailing newline and split by commas\n",
    "        dataset_features.append(fields)\n",
    "#name, id, minutes, contributor_id, date, tags, nutrition, number of steps, steps, description, ingredients, n_ingredinets"
   ]
  },
  {
   "cell_type": "code",
   "execution_count": 9,
   "id": "64d24e3e-0db7-42d8-93bb-26a19a4dc829",
   "metadata": {},
   "outputs": [
    {
     "data": {
      "text/plain": [
       "['can be prepared either spicy or sweet', ' your choice!']"
      ]
     },
     "execution_count": 9,
     "metadata": {},
     "output_type": "execute_result"
    }
   ],
   "source": []
  },
  {
   "cell_type": "code",
   "execution_count": null,
   "id": "831687cb-8f54-4c0f-9a9d-aa4be200c64b",
   "metadata": {},
   "outputs": [],
   "source": []
  }
 ],
 "metadata": {
  "kernelspec": {
   "display_name": "Python 3 (ipykernel)",
   "language": "python",
   "name": "python3"
  },
  "language_info": {
   "codemirror_mode": {
    "name": "ipython",
    "version": 3
   },
   "file_extension": ".py",
   "mimetype": "text/x-python",
   "name": "python",
   "nbconvert_exporter": "python",
   "pygments_lexer": "ipython3",
   "version": "3.11.7"
  }
 },
 "nbformat": 4,
 "nbformat_minor": 5
}
