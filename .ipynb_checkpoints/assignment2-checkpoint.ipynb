{
 "cells": [
  {
   "cell_type": "code",
   "execution_count": 8,
   "id": "35afc6b0-0403-4feb-ab0e-d441211d6b81",
   "metadata": {},
   "outputs": [],
   "source": [
    "import numpy\n",
    "import urllib\n",
    "import scipy.optimize\n",
    "import random\n",
    "from sklearn import linear_model\n",
    "import gzip\n",
    "from collections import defaultdict"
   ]
  },
  {
   "cell_type": "code",
   "execution_count": 9,
   "id": "8c7c2f96-45a3-4b98-9b3c-507d81e87cbf",
   "metadata": {},
   "outputs": [],
   "source": [
    "dataset = []\n",
    "with open(\"RAW_interactions.csv\", encoding=\"utf8\") as f:\n",
    "    next(f)  \n",
    "    for l in f:\n",
    "        fields = l.strip().split(\",\")  # Remove trailing newline and split by commas\n",
    "        dataset.append(fields)"
   ]
  },
  {
   "cell_type": "code",
   "execution_count": 10,
   "id": "fff5612f-1172-48c9-9d8c-7466ca9cfd7b",
   "metadata": {},
   "outputs": [
    {
     "data": {
      "text/plain": [
       "['38094',\n",
       " '40893',\n",
       " '2003-02-17',\n",
       " '4',\n",
       " 'Great with a salad. Cooked on top of stove for 15 minutes.Added a shake of cayenne and a pinch of salt.  Used low fat sour cream.  Thanks.']"
      ]
     },
     "execution_count": 10,
     "metadata": {},
     "output_type": "execute_result"
    }
   ],
   "source": [
    "dataset[0]\n",
    "#user_id, recipe_id, date, rating, review"
   ]
  },
  {
   "cell_type": "code",
   "execution_count": 14,
   "id": "82505f2d-0271-4a7f-9553-2e8294b7f7f3",
   "metadata": {},
   "outputs": [
    {
     "ename": "IndexError",
     "evalue": "list index out of range",
     "output_type": "error",
     "traceback": [
      "\u001b[1;31m---------------------------------------------------------------------------\u001b[0m",
      "\u001b[1;31mIndexError\u001b[0m                                Traceback (most recent call last)",
      "Cell \u001b[1;32mIn[14], line 2\u001b[0m\n\u001b[0;32m      1\u001b[0m \u001b[38;5;28;01mfor\u001b[39;00m row \u001b[38;5;129;01min\u001b[39;00m dataset:\n\u001b[1;32m----> 2\u001b[0m     recipe_id \u001b[38;5;241m=\u001b[39m row[\u001b[38;5;241m1\u001b[39m]  \u001b[38;5;66;03m# Assuming recipe_id is the second field\u001b[39;00m\n\u001b[0;32m      3\u001b[0m     rating \u001b[38;5;241m=\u001b[39m row[\u001b[38;5;241m3\u001b[39m]\n",
      "\u001b[1;31mIndexError\u001b[0m: list index out of range"
     ]
    }
   ],
   "source": [
    "for row in dataset:\n",
    "    recipe_id = row[1]  # Assuming recipe_id is the second field\n",
    "    rating = row[3]     # Assuming rating is the fourth field\n",
    "    #print(\"Recipe id: \" + recipe_id)\n",
    "    #print(\"Rating: \" + rating)"
   ]
  },
  {
   "cell_type": "code",
   "execution_count": null,
   "id": "bf3940a9-4d56-454a-89c9-02a80e7416f8",
   "metadata": {},
   "outputs": [],
   "source": []
  }
 ],
 "metadata": {
  "kernelspec": {
   "display_name": "Python 3 (ipykernel)",
   "language": "python",
   "name": "python3"
  },
  "language_info": {
   "codemirror_mode": {
    "name": "ipython",
    "version": 3
   },
   "file_extension": ".py",
   "mimetype": "text/x-python",
   "name": "python",
   "nbconvert_exporter": "python",
   "pygments_lexer": "ipython3",
   "version": "3.11.7"
  }
 },
 "nbformat": 4,
 "nbformat_minor": 5
}
